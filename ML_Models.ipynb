{
  "cells": [
    {
      "cell_type": "code",
      "execution_count": 151,
      "metadata": {
        "id": "-LDJOrdbOgi8"
      },
      "outputs": [],
      "source": [
        "import numpy as np\n",
        "import pandas as pd\n",
        "from matplotlib import pyplot as plt\n",
        "from sklearn.preprocessing import MinMaxScaler\n",
        "from sklearn.linear_model import LinearRegression, LogisticRegression\n",
        "from sklearn.model_selection import train_test_split, cross_val_score\n",
        "from sklearn.metrics import mean_squared_error, log_loss, accuracy_score\n",
        "#For the neural network\n",
        "import torch\n",
        "import torch.nn as nn\n",
        "import torch.optim as optim\n",
        "from torch.utils.data import DataLoader,TensorDataset\n",
        "import os\n",
        "import random"
      ]
    },
    {
      "cell_type": "markdown",
      "metadata": {
        "id": "idripKU77HhF"
      },
      "source": [
        "STEP 1 = LOADING, EDDITING, VISUALISING DATASET"
      ]
    },
    {
      "cell_type": "code",
      "execution_count": 152,
      "metadata": {
        "id": "t0isXyMGPydv"
      },
      "outputs": [],
      "source": [
        "#LOADING dataset\n",
        "filename = 'BTC-USD.csv'\n",
        "data = pd.read_csv(filename)"
      ]
    },
    {
      "cell_type": "code",
      "execution_count": 153,
      "metadata": {
        "colab": {
          "base_uri": "https://localhost:8080/"
        },
        "id": "ed9PllGY74sp",
        "outputId": "9c6c79f6-f38d-4cb6-8631-f9e4e771aee3"
      },
      "outputs": [
        {
          "name": "stdout",
          "output_type": "stream",
          "text": [
            "Date         0\n",
            "Open         0\n",
            "High         0\n",
            "Low          0\n",
            "Close        0\n",
            "Adj Close    0\n",
            "Volume       0\n",
            "dtype: int64\n",
            "Dataframe's shape:  (1827, 7)\n"
          ]
        }
      ],
      "source": [
        "#EDITING DATASET\n",
        "#check for null values\n",
        "print(data.isnull().sum())\n",
        "print(\"Dataframe's shape: \",data.shape)"
      ]
    },
    {
      "cell_type": "code",
      "execution_count": 154,
      "metadata": {},
      "outputs": [
        {
          "name": "stdout",
          "output_type": "stream",
          "text": [
            "Date         1827\n",
            "Open         1826\n",
            "High         1826\n",
            "Low          1827\n",
            "Close        1825\n",
            "Adj Close    1825\n",
            "Volume       1827\n",
            "dtype: int64\n"
          ]
        }
      ],
      "source": [
        "# get number of unique values for each column\n",
        "print(data.nunique())"
      ]
    },
    {
      "cell_type": "code",
      "execution_count": 155,
      "metadata": {
        "colab": {
          "base_uri": "https://localhost:8080/",
          "height": 281
        },
        "id": "knaigLo92wsC",
        "outputId": "705fb933-bb42-41dd-f260-68da4e7596a2"
      },
      "outputs": [
        {
          "data": {
            "text/html": [
              "<div>\n",
              "<style scoped>\n",
              "    .dataframe tbody tr th:only-of-type {\n",
              "        vertical-align: middle;\n",
              "    }\n",
              "\n",
              "    .dataframe tbody tr th {\n",
              "        vertical-align: top;\n",
              "    }\n",
              "\n",
              "    .dataframe thead th {\n",
              "        text-align: right;\n",
              "    }\n",
              "</style>\n",
              "<table border=\"1\" class=\"dataframe\">\n",
              "  <thead>\n",
              "    <tr style=\"text-align: right;\">\n",
              "      <th></th>\n",
              "      <th>Date</th>\n",
              "      <th>Open</th>\n",
              "      <th>High</th>\n",
              "      <th>Low</th>\n",
              "      <th>Close</th>\n",
              "      <th>Adj Close</th>\n",
              "      <th>Volume</th>\n",
              "    </tr>\n",
              "  </thead>\n",
              "  <tbody>\n",
              "    <tr>\n",
              "      <th>0</th>\n",
              "      <td>2016-12-20</td>\n",
              "      <td>792.247009</td>\n",
              "      <td>801.336975</td>\n",
              "      <td>791.497009</td>\n",
              "      <td>800.875977</td>\n",
              "      <td>800.875977</td>\n",
              "      <td>99629296</td>\n",
              "    </tr>\n",
              "    <tr>\n",
              "      <th>1</th>\n",
              "      <td>2016-12-21</td>\n",
              "      <td>800.643982</td>\n",
              "      <td>834.281006</td>\n",
              "      <td>799.405029</td>\n",
              "      <td>834.281006</td>\n",
              "      <td>834.281006</td>\n",
              "      <td>155576000</td>\n",
              "    </tr>\n",
              "    <tr>\n",
              "      <th>2</th>\n",
              "      <td>2016-12-22</td>\n",
              "      <td>834.179993</td>\n",
              "      <td>875.781982</td>\n",
              "      <td>834.148987</td>\n",
              "      <td>864.539978</td>\n",
              "      <td>864.539978</td>\n",
              "      <td>200027008</td>\n",
              "    </tr>\n",
              "    <tr>\n",
              "      <th>3</th>\n",
              "      <td>2016-12-23</td>\n",
              "      <td>864.888000</td>\n",
              "      <td>925.117004</td>\n",
              "      <td>864.677002</td>\n",
              "      <td>921.984009</td>\n",
              "      <td>921.984009</td>\n",
              "      <td>275564000</td>\n",
              "    </tr>\n",
              "    <tr>\n",
              "      <th>4</th>\n",
              "      <td>2016-12-24</td>\n",
              "      <td>922.179993</td>\n",
              "      <td>923.479004</td>\n",
              "      <td>886.335022</td>\n",
              "      <td>898.822021</td>\n",
              "      <td>898.822021</td>\n",
              "      <td>137727008</td>\n",
              "    </tr>\n",
              "  </tbody>\n",
              "</table>\n",
              "</div>"
            ],
            "text/plain": [
              "         Date        Open        High         Low       Close   Adj Close  \\\n",
              "0  2016-12-20  792.247009  801.336975  791.497009  800.875977  800.875977   \n",
              "1  2016-12-21  800.643982  834.281006  799.405029  834.281006  834.281006   \n",
              "2  2016-12-22  834.179993  875.781982  834.148987  864.539978  864.539978   \n",
              "3  2016-12-23  864.888000  925.117004  864.677002  921.984009  921.984009   \n",
              "4  2016-12-24  922.179993  923.479004  886.335022  898.822021  898.822021   \n",
              "\n",
              "      Volume  \n",
              "0   99629296  \n",
              "1  155576000  \n",
              "2  200027008  \n",
              "3  275564000  \n",
              "4  137727008  "
            ]
          },
          "execution_count": 155,
          "metadata": {},
          "output_type": "execute_result"
        }
      ],
      "source": [
        "#Visualising Dataset\n",
        "data.head()\n"
      ]
    },
    {
      "cell_type": "code",
      "execution_count": 156,
      "metadata": {},
      "outputs": [
        {
          "name": "stdout",
          "output_type": "stream",
          "text": [
            "1827\n"
          ]
        }
      ],
      "source": [
        "count=0\n",
        "for i in range(data.shape[0]):\n",
        "  if(data['Adj Close'][i]==data['Close'][i]):\n",
        "    count+=1\n",
        "print(count)"
      ]
    },
    {
      "cell_type": "code",
      "execution_count": 157,
      "metadata": {},
      "outputs": [
        {
          "data": {
            "image/png": "[encoded data removed]",
            "text/plain": [
              "<Figure size 432x288 with 1 Axes>"
            ]
          },
          "metadata": {
            "needs_background": "light"
          },
          "output_type": "display_data"
        }
      ],
      "source": [
        "#as time series\n",
        "data.plot.line(y=\"Close\", x=\"Date\")\n",
        "plt.show()"
      ]
    },
    {
      "cell_type": "code",
      "execution_count": 158,
      "metadata": {
        "colab": {
          "base_uri": "https://localhost:8080/",
          "height": 300
        },
        "id": "d7Ao1VFo5lkL",
        "outputId": "52b05668-5cfb-4468-a6d9-d16d5813fffe"
      },
      "outputs": [
        {
          "data": {
            "text/html": [
              "<div>\n",
              "<style scoped>\n",
              "    .dataframe tbody tr th:only-of-type {\n",
              "        vertical-align: middle;\n",
              "    }\n",
              "\n",
              "    .dataframe tbody tr th {\n",
              "        vertical-align: top;\n",
              "    }\n",
              "\n",
              "    .dataframe thead th {\n",
              "        text-align: right;\n",
              "    }\n",
              "</style>\n",
              "<table border=\"1\" class=\"dataframe\">\n",
              "  <thead>\n",
              "    <tr style=\"text-align: right;\">\n",
              "      <th></th>\n",
              "      <th>Open</th>\n",
              "      <th>High</th>\n",
              "      <th>Low</th>\n",
              "      <th>Close</th>\n",
              "      <th>Adj Close</th>\n",
              "      <th>Volume</th>\n",
              "    </tr>\n",
              "  </thead>\n",
              "  <tbody>\n",
              "    <tr>\n",
              "      <th>count</th>\n",
              "      <td>1827.000000</td>\n",
              "      <td>1827.000000</td>\n",
              "      <td>1827.000000</td>\n",
              "      <td>1827.000000</td>\n",
              "      <td>1827.000000</td>\n",
              "      <td>1.827000e+03</td>\n",
              "    </tr>\n",
              "    <tr>\n",
              "      <th>mean</th>\n",
              "      <td>15182.963836</td>\n",
              "      <td>15602.934020</td>\n",
              "      <td>14721.770709</td>\n",
              "      <td>15205.688536</td>\n",
              "      <td>15205.688536</td>\n",
              "      <td>2.090553e+10</td>\n",
              "    </tr>\n",
              "    <tr>\n",
              "      <th>std</th>\n",
              "      <td>16816.404465</td>\n",
              "      <td>17282.714832</td>\n",
              "      <td>16275.508579</td>\n",
              "      <td>16824.102298</td>\n",
              "      <td>16824.102298</td>\n",
              "      <td>2.123368e+10</td>\n",
              "    </tr>\n",
              "    <tr>\n",
              "      <th>min</th>\n",
              "      <td>775.177979</td>\n",
              "      <td>801.336975</td>\n",
              "      <td>755.755981</td>\n",
              "      <td>777.757019</td>\n",
              "      <td>777.757019</td>\n",
              "      <td>6.085170e+07</td>\n",
              "    </tr>\n",
              "    <tr>\n",
              "      <th>25%</th>\n",
              "      <td>5301.157471</td>\n",
              "      <td>5419.827637</td>\n",
              "      <td>5217.846680</td>\n",
              "      <td>5309.171875</td>\n",
              "      <td>5309.171875</td>\n",
              "      <td>4.450275e+09</td>\n",
              "    </tr>\n",
              "    <tr>\n",
              "      <th>50%</th>\n",
              "      <td>8573.980469</td>\n",
              "      <td>8743.500000</td>\n",
              "      <td>8296.218750</td>\n",
              "      <td>8586.473633</td>\n",
              "      <td>8586.473633</td>\n",
              "      <td>1.603826e+10</td>\n",
              "    </tr>\n",
              "    <tr>\n",
              "      <th>75%</th>\n",
              "      <td>13445.887207</td>\n",
              "      <td>13840.397461</td>\n",
              "      <td>12897.904297</td>\n",
              "      <td>13492.202637</td>\n",
              "      <td>13492.202637</td>\n",
              "      <td>3.260844e+10</td>\n",
              "    </tr>\n",
              "    <tr>\n",
              "      <th>max</th>\n",
              "      <td>67549.734375</td>\n",
              "      <td>68789.625000</td>\n",
              "      <td>66382.062500</td>\n",
              "      <td>67566.828125</td>\n",
              "      <td>67566.828125</td>\n",
              "      <td>3.509679e+11</td>\n",
              "    </tr>\n",
              "  </tbody>\n",
              "</table>\n",
              "</div>"
            ],
            "text/plain": [
              "               Open          High           Low         Close     Adj Close  \\\n",
              "count   1827.000000   1827.000000   1827.000000   1827.000000   1827.000000   \n",
              "mean   15182.963836  15602.934020  14721.770709  15205.688536  15205.688536   \n",
              "std    16816.404465  17282.714832  16275.508579  16824.102298  16824.102298   \n",
              "min      775.177979    801.336975    755.755981    777.757019    777.757019   \n",
              "25%     5301.157471   5419.827637   5217.846680   5309.171875   5309.171875   \n",
              "50%     8573.980469   8743.500000   8296.218750   8586.473633   8586.473633   \n",
              "75%    13445.887207  13840.397461  12897.904297  13492.202637  13492.202637   \n",
              "max    67549.734375  68789.625000  66382.062500  67566.828125  67566.828125   \n",
              "\n",
              "             Volume  \n",
              "count  1.827000e+03  \n",
              "mean   2.090553e+10  \n",
              "std    2.123368e+10  \n",
              "min    6.085170e+07  \n",
              "25%    4.450275e+09  \n",
              "50%    1.603826e+10  \n",
              "75%    3.260844e+10  \n",
              "max    3.509679e+11  "
            ]
          },
          "execution_count": 158,
          "metadata": {},
          "output_type": "execute_result"
        }
      ],
      "source": [
        "data.describe()"
      ]
    },
    {
      "cell_type": "code",
      "execution_count": 159,
      "metadata": {
        "colab": {
          "base_uri": "https://localhost:8080/",
          "height": 295
        },
        "id": "SSZZ-0mj5pCW",
        "outputId": "da0f7e48-a32e-40f7-f2e2-41df7f8e4224"
      },
      "outputs": [
        {
          "data": {
            "text/plain": [
              "<AxesSubplot:ylabel='Density'>"
            ]
          },
          "execution_count": 159,
          "metadata": {},
          "output_type": "execute_result"
        },
        {
          "data": {
            "image/png": "[encoded data removed]",
            "text/plain": [
              "<Figure size 432x288 with 1 Axes>"
            ]
          },
          "metadata": {
            "needs_background": "light"
          },
          "output_type": "display_data"
        }
      ],
      "source": [
        "data['Open'].plot.kde()"
      ]
    },
    {
      "cell_type": "code",
      "execution_count": 160,
      "metadata": {
        "colab": {
          "base_uri": "https://localhost:8080/",
          "height": 295
        },
        "id": "XmO2DROa5rQU",
        "outputId": "e4ce765c-f34a-424d-cdb0-9ee3710a2cb5"
      },
      "outputs": [
        {
          "data": {
            "text/plain": [
              "<AxesSubplot:ylabel='Density'>"
            ]
          },
          "execution_count": 160,
          "metadata": {},
          "output_type": "execute_result"
        },
        {
          "data": {
            "image/png": "[encoded data removed]",
            "text/plain": [
              "<Figure size 432x288 with 1 Axes>"
            ]
          },
          "metadata": {
            "needs_background": "light"
          },
          "output_type": "display_data"
        }
      ],
      "source": [
        "data['High'].plot.kde()"
      ]
    },
    {
      "cell_type": "code",
      "execution_count": 161,
      "metadata": {
        "colab": {
          "base_uri": "https://localhost:8080/",
          "height": 295
        },
        "id": "7kDXqd3j6CgZ",
        "outputId": "20088750-7232-4196-c604-48c83454c2d9"
      },
      "outputs": [
        {
          "data": {
            "text/plain": [
              "<AxesSubplot:ylabel='Density'>"
            ]
          },
          "execution_count": 161,
          "metadata": {},
          "output_type": "execute_result"
        },
        {
          "data": {
            "image/png": "[encoded data removed]",
            "text/plain": [
              "<Figure size 432x288 with 1 Axes>"
            ]
          },
          "metadata": {
            "needs_background": "light"
          },
          "output_type": "display_data"
        }
      ],
      "source": [
        "data['Low'].plot.kde()"
      ]
    },
    {
      "cell_type": "code",
      "execution_count": 162,
      "metadata": {
        "colab": {
          "base_uri": "https://localhost:8080/",
          "height": 295
        },
        "id": "pp1bf1SK6ZEQ",
        "outputId": "e55a64a7-188c-4118-a523-77dd8ea255e1"
      },
      "outputs": [
        {
          "data": {
            "text/plain": [
              "<AxesSubplot:ylabel='Density'>"
            ]
          },
          "execution_count": 162,
          "metadata": {},
          "output_type": "execute_result"
        },
        {
          "data": {
            "image/png": "[encoded data removed]",
            "text/plain": [
              "<Figure size 432x288 with 1 Axes>"
            ]
          },
          "metadata": {
            "needs_background": "light"
          },
          "output_type": "display_data"
        }
      ],
      "source": [
        "data['Close'].plot.kde()"
      ]
    },
    {
      "cell_type": "code",
      "execution_count": 163,
      "metadata": {
        "colab": {
          "base_uri": "https://localhost:8080/",
          "height": 295
        },
        "id": "4yd2p2E-6msk",
        "outputId": "9c8085d3-0093-4b00-96bd-d3dc687b5a21"
      },
      "outputs": [
        {
          "data": {
            "text/plain": [
              "<AxesSubplot:ylabel='Density'>"
            ]
          },
          "execution_count": 163,
          "metadata": {},
          "output_type": "execute_result"
        },
        {
          "data": {
            "image/png": "[encoded data removed]",
            "text/plain": [
              "<Figure size 432x288 with 1 Axes>"
            ]
          },
          "metadata": {
            "needs_background": "light"
          },
          "output_type": "display_data"
        }
      ],
      "source": [
        "data['Adj Close'].plot.kde()"
      ]
    },
    {
      "cell_type": "code",
      "execution_count": 164,
      "metadata": {
        "colab": {
          "base_uri": "https://localhost:8080/",
          "height": 307
        },
        "id": "vp-14Mop6r8h",
        "outputId": "b4bc8a6b-885e-4cc7-e2e6-9f88a08d13a5"
      },
      "outputs": [
        {
          "data": {
            "text/plain": [
              "<AxesSubplot:ylabel='Density'>"
            ]
          },
          "execution_count": 164,
          "metadata": {},
          "output_type": "execute_result"
        },
        {
          "data": {
            "image/png": "[encoded data removed]",
            "text/plain": [
              "<Figure size 432x288 with 1 Axes>"
            ]
          },
          "metadata": {
            "needs_background": "light"
          },
          "output_type": "display_data"
        }
      ],
      "source": [
        "data['Volume'].plot.kde()"
      ]
    },
    {
      "cell_type": "markdown",
      "metadata": {
        "id": "wJCorQZR7NB8"
      },
      "source": [
        "STEP 2 = CLOSING VALUES: PREPROCESSING-TRAINING-DIAGNOSTICS"
      ]
    },
    {
      "cell_type": "code",
      "execution_count": 165,
      "metadata": {
        "colab": {
          "base_uri": "https://localhost:8080/",
          "height": 206
        },
        "id": "VylI7VZSAbFv",
        "outputId": "f331d78b-e70f-43d4-ef2d-c08c0d9cc213"
      },
      "outputs": [
        {
          "data": {
            "text/html": [
              "<div>\n",
              "<style scoped>\n",
              "    .dataframe tbody tr th:only-of-type {\n",
              "        vertical-align: middle;\n",
              "    }\n",
              "\n",
              "    .dataframe tbody tr th {\n",
              "        vertical-align: top;\n",
              "    }\n",
              "\n",
              "    .dataframe thead th {\n",
              "        text-align: right;\n",
              "    }\n",
              "</style>\n",
              "<table border=\"1\" class=\"dataframe\">\n",
              "  <thead>\n",
              "    <tr style=\"text-align: right;\">\n",
              "      <th></th>\n",
              "      <th>Open</th>\n",
              "      <th>High</th>\n",
              "      <th>Low</th>\n",
              "      <th>Volume</th>\n",
              "      <th>Close</th>\n",
              "    </tr>\n",
              "  </thead>\n",
              "  <tbody>\n",
              "    <tr>\n",
              "      <th>0</th>\n",
              "      <td>0.000256</td>\n",
              "      <td>0.000000</td>\n",
              "      <td>0.000545</td>\n",
              "      <td>0.000111</td>\n",
              "      <td>0.000346</td>\n",
              "    </tr>\n",
              "    <tr>\n",
              "      <th>1</th>\n",
              "      <td>0.000381</td>\n",
              "      <td>0.000485</td>\n",
              "      <td>0.000665</td>\n",
              "      <td>0.000270</td>\n",
              "      <td>0.000846</td>\n",
              "    </tr>\n",
              "    <tr>\n",
              "      <th>2</th>\n",
              "      <td>0.000884</td>\n",
              "      <td>0.001095</td>\n",
              "      <td>0.001195</td>\n",
              "      <td>0.000397</td>\n",
              "      <td>0.001299</td>\n",
              "    </tr>\n",
              "    <tr>\n",
              "      <th>3</th>\n",
              "      <td>0.001343</td>\n",
              "      <td>0.001821</td>\n",
              "      <td>0.001660</td>\n",
              "      <td>0.000612</td>\n",
              "      <td>0.002159</td>\n",
              "    </tr>\n",
              "    <tr>\n",
              "      <th>4</th>\n",
              "      <td>0.002201</td>\n",
              "      <td>0.001797</td>\n",
              "      <td>0.001990</td>\n",
              "      <td>0.000219</td>\n",
              "      <td>0.001813</td>\n",
              "    </tr>\n",
              "  </tbody>\n",
              "</table>\n",
              "</div>"
            ],
            "text/plain": [
              "       Open      High       Low    Volume     Close\n",
              "0  0.000256  0.000000  0.000545  0.000111  0.000346\n",
              "1  0.000381  0.000485  0.000665  0.000270  0.000846\n",
              "2  0.000884  0.001095  0.001195  0.000397  0.001299\n",
              "3  0.001343  0.001821  0.001660  0.000612  0.002159\n",
              "4  0.002201  0.001797  0.001990  0.000219  0.001813"
            ]
          },
          "execution_count": 165,
          "metadata": {},
          "output_type": "execute_result"
        }
      ],
      "source": [
        "#normalisation\n",
        "scaler = MinMaxScaler()\n",
        "#we dont need column \"Date\"\n",
        "#we will also drop column \"Adj Close, as it is the same as column \"Close\"\n",
        "names =[\"Open\", \"High\", \"Low\", \"Volume\", \"Close\"]\n",
        "data = scaler.fit_transform(data[names])\n",
        "data = pd.DataFrame(data, columns=names)\n",
        "data.head()"
      ]
    },
    {
      "cell_type": "code",
      "execution_count": 166,
      "metadata": {
        "colab": {
          "base_uri": "https://localhost:8080/",
          "height": 206
        },
        "id": "lPSR1s-K8FN8",
        "outputId": "7962d3d1-237e-468b-c7fe-0be12510b923"
      },
      "outputs": [
        {
          "data": {
            "text/html": [
              "<div>\n",
              "<style scoped>\n",
              "    .dataframe tbody tr th:only-of-type {\n",
              "        vertical-align: middle;\n",
              "    }\n",
              "\n",
              "    .dataframe tbody tr th {\n",
              "        vertical-align: top;\n",
              "    }\n",
              "\n",
              "    .dataframe thead th {\n",
              "        text-align: right;\n",
              "    }\n",
              "</style>\n",
              "<table border=\"1\" class=\"dataframe\">\n",
              "  <thead>\n",
              "    <tr style=\"text-align: right;\">\n",
              "      <th></th>\n",
              "      <th>Actual_Close</th>\n",
              "      <th>Target</th>\n",
              "    </tr>\n",
              "  </thead>\n",
              "  <tbody>\n",
              "    <tr>\n",
              "      <th>0</th>\n",
              "      <td>0.000346</td>\n",
              "      <td>NaN</td>\n",
              "    </tr>\n",
              "    <tr>\n",
              "      <th>1</th>\n",
              "      <td>0.000846</td>\n",
              "      <td>1.0</td>\n",
              "    </tr>\n",
              "    <tr>\n",
              "      <th>2</th>\n",
              "      <td>0.001299</td>\n",
              "      <td>1.0</td>\n",
              "    </tr>\n",
              "    <tr>\n",
              "      <th>3</th>\n",
              "      <td>0.002159</td>\n",
              "      <td>1.0</td>\n",
              "    </tr>\n",
              "    <tr>\n",
              "      <th>4</th>\n",
              "      <td>0.001813</td>\n",
              "      <td>0.0</td>\n",
              "    </tr>\n",
              "  </tbody>\n",
              "</table>\n",
              "</div>"
            ],
            "text/plain": [
              "   Actual_Close  Target\n",
              "0      0.000346     NaN\n",
              "1      0.000846     1.0\n",
              "2      0.001299     1.0\n",
              "3      0.002159     1.0\n",
              "4      0.001813     0.0"
            ]
          },
          "execution_count": 166,
          "metadata": {},
          "output_type": "execute_result"
        }
      ],
      "source": [
        "#keep close data in a separate DataFrame\n",
        "data_close= data[[\"Close\"]] #needed in order to preserve the actual close value per day\n",
        "data_close= data_close.rename(columns = {'Close':'Actual_Close'})\n",
        "#rolling over every two rows, check if the later close value is greater than the preceding one and return 1, otherwise 0\n",
        "data_close[\"Target\"] = data.rolling(2).apply(lambda x: x.iloc[1] > x.iloc[0])[\"Close\"]\n",
        "data_close.head()"
      ]
    },
    {
      "cell_type": "code",
      "execution_count": 167,
      "metadata": {
        "colab": {
          "base_uri": "https://localhost:8080/",
          "height": 206
        },
        "id": "0-0FA0HxB2m2",
        "outputId": "9c3e290a-e550-46b2-90aa-fc878ec70ded"
      },
      "outputs": [
        {
          "data": {
            "text/html": [
              "<div>\n",
              "<style scoped>\n",
              "    .dataframe tbody tr th:only-of-type {\n",
              "        vertical-align: middle;\n",
              "    }\n",
              "\n",
              "    .dataframe tbody tr th {\n",
              "        vertical-align: top;\n",
              "    }\n",
              "\n",
              "    .dataframe thead th {\n",
              "        text-align: right;\n",
              "    }\n",
              "</style>\n",
              "<table border=\"1\" class=\"dataframe\">\n",
              "  <thead>\n",
              "    <tr style=\"text-align: right;\">\n",
              "      <th></th>\n",
              "      <th>Open</th>\n",
              "      <th>High</th>\n",
              "      <th>Low</th>\n",
              "      <th>Volume</th>\n",
              "      <th>Close</th>\n",
              "    </tr>\n",
              "  </thead>\n",
              "  <tbody>\n",
              "    <tr>\n",
              "      <th>0</th>\n",
              "      <td>NaN</td>\n",
              "      <td>NaN</td>\n",
              "      <td>NaN</td>\n",
              "      <td>NaN</td>\n",
              "      <td>NaN</td>\n",
              "    </tr>\n",
              "    <tr>\n",
              "      <th>1</th>\n",
              "      <td>0.000256</td>\n",
              "      <td>0.000000</td>\n",
              "      <td>0.000545</td>\n",
              "      <td>0.000111</td>\n",
              "      <td>0.000346</td>\n",
              "    </tr>\n",
              "    <tr>\n",
              "      <th>2</th>\n",
              "      <td>0.000381</td>\n",
              "      <td>0.000485</td>\n",
              "      <td>0.000665</td>\n",
              "      <td>0.000270</td>\n",
              "      <td>0.000846</td>\n",
              "    </tr>\n",
              "    <tr>\n",
              "      <th>3</th>\n",
              "      <td>0.000884</td>\n",
              "      <td>0.001095</td>\n",
              "      <td>0.001195</td>\n",
              "      <td>0.000397</td>\n",
              "      <td>0.001299</td>\n",
              "    </tr>\n",
              "    <tr>\n",
              "      <th>4</th>\n",
              "      <td>0.001343</td>\n",
              "      <td>0.001821</td>\n",
              "      <td>0.001660</td>\n",
              "      <td>0.000612</td>\n",
              "      <td>0.002159</td>\n",
              "    </tr>\n",
              "  </tbody>\n",
              "</table>\n",
              "</div>"
            ],
            "text/plain": [
              "       Open      High       Low    Volume     Close\n",
              "0       NaN       NaN       NaN       NaN       NaN\n",
              "1  0.000256  0.000000  0.000545  0.000111  0.000346\n",
              "2  0.000381  0.000485  0.000665  0.000270  0.000846\n",
              "3  0.000884  0.001095  0.001195  0.000397  0.001299\n",
              "4  0.001343  0.001821  0.001660  0.000612  0.002159"
            ]
          },
          "execution_count": 167,
          "metadata": {},
          "output_type": "execute_result"
        }
      ],
      "source": [
        "#ensure that the prediction of future prices depends on past day's data\n",
        "data_prev = data.copy()\n",
        "data_prev = data_prev.shift(1)\n",
        "data_prev.head()"
      ]
    },
    {
      "cell_type": "code",
      "execution_count": 168,
      "metadata": {
        "colab": {
          "base_uri": "https://localhost:8080/",
          "height": 206
        },
        "id": "rrO_3Gum8TQk",
        "outputId": "f283e407-4db0-44e9-8048-fb10261496a1"
      },
      "outputs": [
        {
          "data": {
            "text/html": [
              "<div>\n",
              "<style scoped>\n",
              "    .dataframe tbody tr th:only-of-type {\n",
              "        vertical-align: middle;\n",
              "    }\n",
              "\n",
              "    .dataframe tbody tr th {\n",
              "        vertical-align: top;\n",
              "    }\n",
              "\n",
              "    .dataframe thead th {\n",
              "        text-align: right;\n",
              "    }\n",
              "</style>\n",
              "<table border=\"1\" class=\"dataframe\">\n",
              "  <thead>\n",
              "    <tr style=\"text-align: right;\">\n",
              "      <th></th>\n",
              "      <th>Actual_Close</th>\n",
              "      <th>Target</th>\n",
              "      <th>Volume</th>\n",
              "      <th>Open</th>\n",
              "      <th>High</th>\n",
              "      <th>Low</th>\n",
              "    </tr>\n",
              "  </thead>\n",
              "  <tbody>\n",
              "    <tr>\n",
              "      <th>1</th>\n",
              "      <td>0.000846</td>\n",
              "      <td>1.0</td>\n",
              "      <td>0.000111</td>\n",
              "      <td>0.000256</td>\n",
              "      <td>0.000000</td>\n",
              "      <td>0.000545</td>\n",
              "    </tr>\n",
              "    <tr>\n",
              "      <th>2</th>\n",
              "      <td>0.001299</td>\n",
              "      <td>1.0</td>\n",
              "      <td>0.000270</td>\n",
              "      <td>0.000381</td>\n",
              "      <td>0.000485</td>\n",
              "      <td>0.000665</td>\n",
              "    </tr>\n",
              "    <tr>\n",
              "      <th>3</th>\n",
              "      <td>0.002159</td>\n",
              "      <td>1.0</td>\n",
              "      <td>0.000397</td>\n",
              "      <td>0.000884</td>\n",
              "      <td>0.001095</td>\n",
              "      <td>0.001195</td>\n",
              "    </tr>\n",
              "    <tr>\n",
              "      <th>4</th>\n",
              "      <td>0.001813</td>\n",
              "      <td>0.0</td>\n",
              "      <td>0.000612</td>\n",
              "      <td>0.001343</td>\n",
              "      <td>0.001821</td>\n",
              "      <td>0.001660</td>\n",
              "    </tr>\n",
              "    <tr>\n",
              "      <th>5</th>\n",
              "      <td>0.001773</td>\n",
              "      <td>0.0</td>\n",
              "      <td>0.000219</td>\n",
              "      <td>0.002201</td>\n",
              "      <td>0.001797</td>\n",
              "      <td>0.001990</td>\n",
              "    </tr>\n",
              "  </tbody>\n",
              "</table>\n",
              "</div>"
            ],
            "text/plain": [
              "   Actual_Close  Target    Volume      Open      High       Low\n",
              "1      0.000846     1.0  0.000111  0.000256  0.000000  0.000545\n",
              "2      0.001299     1.0  0.000270  0.000381  0.000485  0.000665\n",
              "3      0.002159     1.0  0.000397  0.000884  0.001095  0.001195\n",
              "4      0.001813     0.0  0.000612  0.001343  0.001821  0.001660\n",
              "5      0.001773     0.0  0.000219  0.002201  0.001797  0.001990"
            ]
          },
          "execution_count": 168,
          "metadata": {},
          "output_type": "execute_result"
        }
      ],
      "source": [
        "#TRAINING\n",
        "# Create training data\n",
        "predictors = [\"Volume\", \"Open\", \"High\", \"Low\"]\n",
        "data_close = data_close.join(data_prev[predictors]).iloc[1:]\n",
        "X=data_close[predictors]\n",
        "data_close.head()"
      ]
    },
    {
      "cell_type": "markdown",
      "metadata": {
        "id": "nJNOpc0QfZIy"
      },
      "source": [
        "# Logistic Regression Model"
      ]
    },
    {
      "cell_type": "code",
      "execution_count": 169,
      "metadata": {
        "id": "4xJPI1-LBJTU"
      },
      "outputs": [],
      "source": [
        "y=data_close['Target']\n",
        "x_train,x_test,y_train,y_test=train_test_split(X,y,shuffle=False,test_size=0.2)"
      ]
    },
    {
      "cell_type": "code",
      "execution_count": 170,
      "metadata": {
        "colab": {
          "base_uri": "https://localhost:8080/"
        },
        "id": "QG7A_btJHjRM",
        "outputId": "19050322-83f8-4774-dc32-f06014be0272"
      },
      "outputs": [
        {
          "name": "stdout",
          "output_type": "stream",
          "text": [
            "0.5404109589041095\n"
          ]
        }
      ],
      "source": [
        "clf1 = LogisticRegression(random_state=0)\n",
        "scores=np.array(cross_val_score(clf1, x_train, y_train, cv=5))\n",
        "c_v_score=np.mean(scores)\n",
        "print(c_v_score)"
      ]
    },
    {
      "cell_type": "code",
      "execution_count": 171,
      "metadata": {
        "colab": {
          "base_uri": "https://localhost:8080/"
        },
        "id": "AX5dWmOiHy-K",
        "outputId": "5d6cd813-3834-4b0c-94c3-178d101aeac7"
      },
      "outputs": [
        {
          "name": "stdout",
          "output_type": "stream",
          "text": [
            "0.5273972602739726\n"
          ]
        }
      ],
      "source": [
        "clf2 = LogisticRegression(random_state=0,C=0.01,class_weight='balanced')\n",
        "scores=np.array(cross_val_score(clf2, x_train, y_train, cv=5))\n",
        "c_v_score=np.mean(scores)\n",
        "print(c_v_score)"
      ]
    },
    {
      "cell_type": "code",
      "execution_count": 172,
      "metadata": {
        "colab": {
          "base_uri": "https://localhost:8080/"
        },
        "id": "PdXXyj8WYdlv",
        "outputId": "095e22c7-ea7f-4bca-c889-baae3bbc2b19"
      },
      "outputs": [
        {
          "name": "stdout",
          "output_type": "stream",
          "text": [
            "0.5520547945205478\n"
          ]
        }
      ],
      "source": [
        "clf3 = LogisticRegression(random_state=0,C=0.01,penalty='elasticnet',solver='saga',l1_ratio=0.0025)\n",
        "scores=np.array(cross_val_score(clf3, x_train, y_train, cv=5))\n",
        "c_v_score=np.mean(scores)\n",
        "print(c_v_score)"
      ]
    },
    {
      "cell_type": "code",
      "execution_count": 173,
      "metadata": {
        "colab": {
          "base_uri": "https://localhost:8080/"
        },
        "id": "BEVb8FEUILob",
        "outputId": "dd7b8b5f-7eb4-477d-d4ee-0a1788a3af6a"
      },
      "outputs": [
        {
          "name": "stdout",
          "output_type": "stream",
          "text": [
            "LOSS:  16.609195012710366\n",
            "Accuracy:  0.5191256830601093\n"
          ]
        }
      ],
      "source": [
        "pred=clf3.fit(x_train, y_train).predict(x_test)\n",
        "\n",
        "print(\"LOSS: \",log_loss(y_test, pred))\n",
        "print(\"Accuracy: \", accuracy_score(y_test, pred))"
      ]
    },
    {
      "cell_type": "markdown",
      "metadata": {
        "id": "XbtV3Bu4fgSL"
      },
      "source": [
        "# Linear Regression Model"
      ]
    },
    {
      "cell_type": "code",
      "execution_count": 174,
      "metadata": {
        "id": "T5DjA7xqHzPP"
      },
      "outputs": [],
      "source": [
        "y=np.array(data_close['Actual_Close'])\n",
        "x_train,x_test,y_train,y_test=train_test_split(X,y,shuffle=False,test_size=0.3)"
      ]
    },
    {
      "cell_type": "code",
      "execution_count": 175,
      "metadata": {
        "colab": {
          "base_uri": "https://localhost:8080/"
        },
        "id": "gNcJxU5WMvN_",
        "outputId": "be484db9-13fa-4d51-ab51-7736b2bb24f3"
      },
      "outputs": [
        {
          "name": "stdout",
          "output_type": "stream",
          "text": [
            "0.9671587809066109\n"
          ]
        }
      ],
      "source": [
        "clf1 = LinearRegression()\n",
        "scores=np.array(cross_val_score(clf1, x_train, y_train, cv=5))\n",
        "c_v_score=np.mean(scores)\n",
        "print(c_v_score)"
      ]
    },
    {
      "cell_type": "code",
      "execution_count": 176,
      "metadata": {
        "colab": {
          "base_uri": "https://localhost:8080/"
        },
        "id": "IKXyXrsKMv3Q",
        "outputId": "9875be06-8427-4e16-81be-5906d52b3454"
      },
      "outputs": [
        {
          "name": "stdout",
          "output_type": "stream",
          "text": [
            "0.9680977740281584\n"
          ]
        }
      ],
      "source": [
        "clf2 = LinearRegression(fit_intercept=False)\n",
        "scores=np.array(cross_val_score(clf2, x_train, y_train, cv=5))\n",
        "c_v_score=np.mean(scores)\n",
        "print(c_v_score)"
      ]
    },
    {
      "cell_type": "code",
      "execution_count": 177,
      "metadata": {
        "colab": {
          "base_uri": "https://localhost:8080/"
        },
        "id": "VXuCedbHMyNS",
        "outputId": "d80301a6-6f20-4b1f-8b68-d4c6c57d3605"
      },
      "outputs": [
        {
          "name": "stdout",
          "output_type": "stream",
          "text": [
            "0.9641499823720456\n"
          ]
        }
      ],
      "source": [
        "clf3 = LinearRegression(positive=True)\n",
        "scores=np.array(cross_val_score(clf3, x_train, y_train, cv=5))\n",
        "c_v_score=np.mean(scores)\n",
        "print(c_v_score)"
      ]
    },
    {
      "cell_type": "code",
      "execution_count": 178,
      "metadata": {
        "colab": {
          "base_uri": "https://localhost:8080/"
        },
        "id": "mNHFAKXqNAbe",
        "outputId": "7b78e8b3-b5d8-42ae-9fb7-206533d0be0c"
      },
      "outputs": [
        {
          "name": "stdout",
          "output_type": "stream",
          "text": [
            "TEST RMSE: 0.025770715541068027\n"
          ]
        }
      ],
      "source": [
        "pred=clf2.fit(x_train, y_train).predict(x_test)\n",
        "print(\"TEST RMSE:\",mean_squared_error(y_test, pred,squared=False))\n",
        "print(\"Accuracy: \", accuracy_score(y_test, pred))"
      ]
    },
    {
      "cell_type": "markdown",
      "metadata": {
        "id": "UJy7wg22fmF3"
      },
      "source": [
        "\n",
        "# Neural Network Model"
      ]
    },
    {
      "cell_type": "code",
      "execution_count": 179,
      "metadata": {
        "colab": {
          "base_uri": "https://localhost:8080/"
        },
        "id": "UQW849RCdpjo",
        "outputId": "84841fce-cd78-4ac6-f64e-7002e5239d9a"
      },
      "outputs": [],
      "source": [
        "close_values=data_close['Actual_Close']\n",
        "train,test=train_test_split(close_values,test_size=0.2)\n",
        "train=np.array(train).reshape(train.shape[0],1)\n",
        "test=np.array(test).reshape(test.shape[0],1)"
      ]
    },
    {
      "cell_type": "code",
      "execution_count": 180,
      "metadata": {
        "colab": {
          "base_uri": "https://localhost:8080/"
        },
        "id": "Sbi72D8xeuZu",
        "outputId": "0feb26a9-38dd-4ef7-fa6b-19a230fc2dfb"
      },
      "outputs": [],
      "source": [
        "xTrain=[]\n",
        "yTrain=[]\n",
        "for i in range(50,train.shape[0]):\n",
        "  xTrain.append(train[i-50:i])\n",
        "  yTrain.append(train[i])\n",
        "xTrain,yTrain=np.array(xTrain),np.array(yTrain)"
      ]
    },
    {
      "cell_type": "code",
      "execution_count": 181,
      "metadata": {
        "colab": {
          "base_uri": "https://localhost:8080/"
        },
        "id": "Dmx-qx8aewAU",
        "outputId": "24e2ea4c-3d8d-4ba4-c766-f5a3de2ef04f"
      },
      "outputs": [],
      "source": [
        "xTest=[]\n",
        "yTest=[]\n",
        "test=np.array(test)\n",
        "for i in range(50,test.shape[0]):\n",
        "  xTest.append(test[i-50:i])\n",
        "  yTest.append(test[i])\n",
        "xTest,yTest=np.array(xTest),np.array(yTest)"
      ]
    },
    {
      "cell_type": "code",
      "execution_count": 182,
      "metadata": {
        "id": "DvcJW09QezfW"
      },
      "outputs": [],
      "source": [
        "device='cpu'\n",
        "yTest=torch.from_numpy(yTest).to(device)\n",
        "\n",
        "xTrain=torch.from_numpy(xTrain).to(device)\n",
        "yTrain=torch.from_numpy(yTrain).to(device)\n",
        "\n",
        "xTest=torch.from_numpy(xTest).to(device)\n",
        "train_set = TensorDataset(xTrain,yTrain) # create your datset\n",
        "train_loader = DataLoader(train_set,batch_size=32,num_workers=0) #\n",
        "\n",
        "test_set = TensorDataset(xTest,yTest) # create your datset\n",
        "val_loader = DataLoader(test_set,batch_size=32,num_workers=0)"
      ]
    },
    {
      "cell_type": "code",
      "execution_count": 183,
      "metadata": {
        "id": "3OzOYtsAf5H0"
      },
      "outputs": [],
      "source": [
        "def seed_all():\n",
        "  seed=185\n",
        "  torch.manual_seed(seed)\n",
        "\n",
        "\n",
        "  torch.cuda.manual_seed(seed)\n",
        "  torch.backends.cudnn.deterministic = True\n",
        "  torch.backends.cudnn.benchmark = False\n",
        "  np.random.seed(seed)\n",
        "  random.seed(seed)\n",
        "  os.environ['PYTHONHASHSEED'] = str(seed)\n",
        "seed_all()"
      ]
    },
    {
      "cell_type": "code",
      "execution_count": 184,
      "metadata": {
        "colab": {
          "base_uri": "https://localhost:8080/"
        },
        "id": "J0X_u6zogCY3",
        "outputId": "32731472-f9ad-492c-fa4e-263a11aa9e4a"
      },
      "outputs": [
        {
          "data": {
            "text/plain": [
              "torch.Size([32, 1, 1])"
            ]
          },
          "execution_count": 184,
          "metadata": {},
          "output_type": "execute_result"
        }
      ],
      "source": [
        "class NeuralNetwork(nn.Module):\n",
        "    def __init__(self):\n",
        "        super(NeuralNetwork, self).__init__()\n",
        "        #self.flatten = nn.Flatten()\n",
        "        self.linear_relu_stack = nn.Sequential(\n",
        "            nn.Linear(50, 50),\n",
        "            nn.ReLU(),\n",
        "            nn.Linear(50, 50),\n",
        "            nn.ReLU(),\n",
        "            #nn.Linear(50, 50),\n",
        "            #nn.ReLU(),\n",
        "            nn.Linear(50,1)\n",
        "        )\n",
        "\n",
        "    def forward(self, x):\n",
        "        #x = self.flatten(x)\n",
        "        #print(\"X.shape=\",x.shape)\n",
        "        x=x.view(x.shape[0],1,50)\n",
        "        logits = self.linear_relu_stack(x)\n",
        "        return logits\n",
        "\n",
        "seed_all()\n",
        "model = NeuralNetwork().to(device)\n",
        "test=model(torch.rand(32,50,1).to(device))\n",
        "test.shape"
      ]
    },
    {
      "cell_type": "code",
      "execution_count": 185,
      "metadata": {
        "id": "EGpT4UoXgHio"
      },
      "outputs": [],
      "source": [
        "loss_fn = nn.MSELoss()\n",
        "optimizer = torch.optim.SGD(model.parameters(), lr=0.01,weight_decay=3e-4)\n",
        "epochs=6\n"
      ]
    },
    {
      "cell_type": "code",
      "execution_count": 186,
      "metadata": {
        "colab": {
          "base_uri": "https://localhost:8080/"
        },
        "id": "gyk1BGXcgRuX",
        "outputId": "aa850e8d-3825-47b1-851e-81148eeb8e35"
      },
      "outputs": [
        {
          "name": "stdout",
          "output_type": "stream",
          "text": [
            "TEST RMSE= 0.31199563480583803\n"
          ]
        }
      ],
      "source": [
        "for epoch in range(epochs):\n",
        "  with torch.no_grad():\n",
        "    for batch,(x,y) in enumerate(train_loader):\n",
        "      # Compute prediction and loss\n",
        "      pred = model(x.float())\n",
        "      loss = loss_fn(pred.view(pred.shape[0],1), y.float())\n",
        "      loss = torch.sqrt(loss+0.0000001) \n",
        "  \n",
        "pred=model(xTest.float()).detach().cpu().numpy()\n",
        "pred=pred.reshape(pred.shape[0],1)\n",
        "y=yTest.detach().cpu().numpy()\n",
        "print(\"TEST RMSE=\",mean_squared_error(y, pred, squared=False))"
      ]
    }
  ],
  "metadata": {
    "colab": {
      "collapsed_sections": [],
      "name": "ML-Models.ipynb",
      "provenance": [],
      "toc_visible": true
    },
    "kernelspec": {
      "display_name": "Python 3",
      "name": "python3"
    },
    "language_info": {
      "codemirror_mode": {
        "name": "ipython",
        "version": 3
      },
      "file_extension": ".py",
      "mimetype": "text/x-python",
      "name": "python",
      "nbconvert_exporter": "python",
      "pygments_lexer": "ipython3",
      "version": "3.9.6"
    }
  },
  "nbformat": 4,
  "nbformat_minor": 0
}
