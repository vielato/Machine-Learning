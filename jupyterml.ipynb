{
  "cells": [
    {
      "cell_type": "code",
      "execution_count": 13,
      "metadata": {
        "id": "n8LKsCo98iUZ"
      },
      "outputs": [],
      "source": [
        "from sklearn import preprocessing\n",
        "from sklearn.linear_model import LinearRegression\n",
        "from sklearn.model_selection import train_test_split\n",
        "from sklearn.metrics import mean_squared_error\n",
        "import pandas as pd\n",
        "import matplotlib as plt"
      ]
    },
    {
      "cell_type": "code",
      "execution_count": 14,
      "metadata": {
        "colab": {
          "base_uri": "https://localhost:8080/"
        },
        "id": "VcsHH7p88r_Z",
        "outputId": "a5ff4330-478e-496b-9807-e71a8d9dbdd8"
      },
      "outputs": [
        {
          "name": "stdout",
          "output_type": "stream",
          "text": [
            "DataFrame has shape of  (1827, 7)\n"
          ]
        }
      ],
      "source": [
        "#LOADING dataset\n",
        "filename = 'dataset/BTC-USD.csv'\n",
        "data = pd.read_csv(filename)\n",
        "print( \"DataFrame has shape of \", data.shape )"
      ]
    },
    {
      "cell_type": "code",
      "execution_count": 15,
      "metadata": {
        "colab": {
          "base_uri": "https://localhost:8080/",
          "height": 206
        },
        "id": "seCVVH1RzneK",
        "outputId": "4f9f6d3b-dee8-4102-b9ad-a75cf35b7d79"
      },
      "outputs": [
        {
          "data": {
            "text/html": [
              "<div>\n",
              "<style scoped>\n",
              "    .dataframe tbody tr th:only-of-type {\n",
              "        vertical-align: middle;\n",
              "    }\n",
              "\n",
              "    .dataframe tbody tr th {\n",
              "        vertical-align: top;\n",
              "    }\n",
              "\n",
              "    .dataframe thead th {\n",
              "        text-align: right;\n",
              "    }\n",
              "</style>\n",
              "<table border=\"1\" class=\"dataframe\">\n",
              "  <thead>\n",
              "    <tr style=\"text-align: right;\">\n",
              "      <th></th>\n",
              "      <th>Date</th>\n",
              "      <th>Open</th>\n",
              "      <th>High</th>\n",
              "      <th>Low</th>\n",
              "      <th>Close</th>\n",
              "      <th>Adj Close</th>\n",
              "      <th>Volume</th>\n",
              "    </tr>\n",
              "  </thead>\n",
              "  <tbody>\n",
              "    <tr>\n",
              "      <th>0</th>\n",
              "      <td>2016-12-20</td>\n",
              "      <td>792.247009</td>\n",
              "      <td>801.336975</td>\n",
              "      <td>791.497009</td>\n",
              "      <td>800.875977</td>\n",
              "      <td>800.875977</td>\n",
              "      <td>99629296</td>\n",
              "    </tr>\n",
              "    <tr>\n",
              "      <th>1</th>\n",
              "      <td>2016-12-21</td>\n",
              "      <td>800.643982</td>\n",
              "      <td>834.281006</td>\n",
              "      <td>799.405029</td>\n",
              "      <td>834.281006</td>\n",
              "      <td>834.281006</td>\n",
              "      <td>155576000</td>\n",
              "    </tr>\n",
              "    <tr>\n",
              "      <th>2</th>\n",
              "      <td>2016-12-22</td>\n",
              "      <td>834.179993</td>\n",
              "      <td>875.781982</td>\n",
              "      <td>834.148987</td>\n",
              "      <td>864.539978</td>\n",
              "      <td>864.539978</td>\n",
              "      <td>200027008</td>\n",
              "    </tr>\n",
              "    <tr>\n",
              "      <th>3</th>\n",
              "      <td>2016-12-23</td>\n",
              "      <td>864.888000</td>\n",
              "      <td>925.117004</td>\n",
              "      <td>864.677002</td>\n",
              "      <td>921.984009</td>\n",
              "      <td>921.984009</td>\n",
              "      <td>275564000</td>\n",
              "    </tr>\n",
              "    <tr>\n",
              "      <th>4</th>\n",
              "      <td>2016-12-24</td>\n",
              "      <td>922.179993</td>\n",
              "      <td>923.479004</td>\n",
              "      <td>886.335022</td>\n",
              "      <td>898.822021</td>\n",
              "      <td>898.822021</td>\n",
              "      <td>137727008</td>\n",
              "    </tr>\n",
              "  </tbody>\n",
              "</table>\n",
              "</div>"
            ],
            "text/plain": [
              "         Date        Open        High         Low       Close   Adj Close  \\\n",
              "0  2016-12-20  792.247009  801.336975  791.497009  800.875977  800.875977   \n",
              "1  2016-12-21  800.643982  834.281006  799.405029  834.281006  834.281006   \n",
              "2  2016-12-22  834.179993  875.781982  834.148987  864.539978  864.539978   \n",
              "3  2016-12-23  864.888000  925.117004  864.677002  921.984009  921.984009   \n",
              "4  2016-12-24  922.179993  923.479004  886.335022  898.822021  898.822021   \n",
              "\n",
              "      Volume  \n",
              "0   99629296  \n",
              "1  155576000  \n",
              "2  200027008  \n",
              "3  275564000  \n",
              "4  137727008  "
            ]
          },
          "execution_count": 15,
          "metadata": {},
          "output_type": "execute_result"
        }
      ],
      "source": [
        "data.head(5)"
      ]
    },
    {
      "cell_type": "code",
      "execution_count": 16,
      "metadata": {
        "colab": {
          "base_uri": "https://localhost:8080/",
          "height": 517
        },
        "id": "xO_UZOxo6Xfp",
        "outputId": "63fb2ad6-0192-43f6-f7c6-5422303e9609"
      },
      "outputs": [
        {
          "data": {
            "image/png": "[encoded data removed]",
            "text/plain": [
              "<Figure size 432x288 with 1 Axes>"
            ]
          },
          "execution_count": 16,
          "metadata": {},
          "output_type": "execute_result"
        },
        {
          "data": {
            "image/png": "[encoded data removed]",
            "text/plain": [
              "<Figure size 432x288 with 1 Axes>"
            ]
          },
          "metadata": {
            "needs_background": "light"
          },
          "output_type": "display_data"
        }
      ],
      "source": [
        "data[\"Close\"].plot().get_figure()"
      ]
    },
    {
      "cell_type": "code",
      "execution_count": 17,
      "metadata": {
        "colab": {
          "base_uri": "https://localhost:8080/",
          "height": 531
        },
        "id": "cwxKlNOpDWSK",
        "outputId": "485715a7-fddb-4af8-cc9c-a5fe5e7fbfd3"
      },
      "outputs": [
        {
          "name": "stdout",
          "output_type": "stream",
          "text": [
            "1643/1827 data points remain.\n"
          ]
        },
        {
          "data": {
            "image/png": "[encoded data removed]",
            "text/plain": [
              "<Figure size 432x288 with 1 Axes>"
            ]
          },
          "execution_count": 17,
          "metadata": {},
          "output_type": "execute_result"
        },
        {
          "data": {
            "image/png": "[encoded data removed]",
            "text/plain": [
              "<Figure size 432x288 with 1 Axes>"
            ]
          },
          "metadata": {
            "needs_background": "light"
          },
          "output_type": "display_data"
        }
      ],
      "source": [
        "data_editing=data[\"Close\"]\n",
        "removed_outliers = data_editing.between(data_editing.quantile(.05), data_editing.quantile(.95))\n",
        "print(str(data_editing[removed_outliers].shape[0]) + \"/\" + str(data.shape[0]) + \" data points remain.\")\n",
        "data_editing[removed_outliers].plot().get_figure()"
      ]
    },
    {
      "cell_type": "code",
      "execution_count": 18,
      "metadata": {
        "colab": {
          "base_uri": "https://localhost:8080/",
          "height": 424
        },
        "id": "vgOat80sDX3L",
        "outputId": "203a36b2-d9ea-4110-a58a-2801ed442305"
      },
      "outputs": [
        {
          "data": {
            "text/html": [
              "<div>\n",
              "<style scoped>\n",
              "    .dataframe tbody tr th:only-of-type {\n",
              "        vertical-align: middle;\n",
              "    }\n",
              "\n",
              "    .dataframe tbody tr th {\n",
              "        vertical-align: top;\n",
              "    }\n",
              "\n",
              "    .dataframe thead th {\n",
              "        text-align: right;\n",
              "    }\n",
              "</style>\n",
              "<table border=\"1\" class=\"dataframe\">\n",
              "  <thead>\n",
              "    <tr style=\"text-align: right;\">\n",
              "      <th></th>\n",
              "      <th>Date</th>\n",
              "      <th>Open</th>\n",
              "      <th>High</th>\n",
              "      <th>Low</th>\n",
              "      <th>Close</th>\n",
              "      <th>Adj Close</th>\n",
              "      <th>Volume</th>\n",
              "    </tr>\n",
              "  </thead>\n",
              "  <tbody>\n",
              "    <tr>\n",
              "      <th>66</th>\n",
              "      <td>2017-02-24</td>\n",
              "      <td>1172.709961</td>\n",
              "      <td>1200.390015</td>\n",
              "      <td>1131.959961</td>\n",
              "      <td>1173.680054</td>\n",
              "      <td>1173.680054</td>\n",
              "      <td>330759008</td>\n",
              "    </tr>\n",
              "    <tr>\n",
              "      <th>69</th>\n",
              "      <td>2017-02-27</td>\n",
              "      <td>1163.780029</td>\n",
              "      <td>1181.979980</td>\n",
              "      <td>1163.380005</td>\n",
              "      <td>1179.969971</td>\n",
              "      <td>1179.969971</td>\n",
              "      <td>131570000</td>\n",
              "    </tr>\n",
              "    <tr>\n",
              "      <th>70</th>\n",
              "      <td>2017-02-28</td>\n",
              "      <td>1180.719971</td>\n",
              "      <td>1193.250000</td>\n",
              "      <td>1171.819946</td>\n",
              "      <td>1179.969971</td>\n",
              "      <td>1179.969971</td>\n",
              "      <td>184956000</td>\n",
              "    </tr>\n",
              "    <tr>\n",
              "      <th>71</th>\n",
              "      <td>2017-03-01</td>\n",
              "      <td>1180.040039</td>\n",
              "      <td>1222.500000</td>\n",
              "      <td>1179.689941</td>\n",
              "      <td>1222.500000</td>\n",
              "      <td>1222.500000</td>\n",
              "      <td>229056992</td>\n",
              "    </tr>\n",
              "    <tr>\n",
              "      <th>72</th>\n",
              "      <td>2017-03-02</td>\n",
              "      <td>1224.680054</td>\n",
              "      <td>1262.130005</td>\n",
              "      <td>1215.619995</td>\n",
              "      <td>1251.010010</td>\n",
              "      <td>1251.010010</td>\n",
              "      <td>368275008</td>\n",
              "    </tr>\n",
              "  </tbody>\n",
              "</table>\n",
              "</div>"
            ],
            "text/plain": [
              "          Date         Open         High          Low        Close  \\\n",
              "66  2017-02-24  1172.709961  1200.390015  1131.959961  1173.680054   \n",
              "69  2017-02-27  1163.780029  1181.979980  1163.380005  1179.969971   \n",
              "70  2017-02-28  1180.719971  1193.250000  1171.819946  1179.969971   \n",
              "71  2017-03-01  1180.040039  1222.500000  1179.689941  1222.500000   \n",
              "72  2017-03-02  1224.680054  1262.130005  1215.619995  1251.010010   \n",
              "\n",
              "      Adj Close     Volume  \n",
              "66  1173.680054  330759008  \n",
              "69  1179.969971  131570000  \n",
              "70  1179.969971  184956000  \n",
              "71  1222.500000  229056992  \n",
              "72  1251.010010  368275008  "
            ]
          },
          "execution_count": 18,
          "metadata": {},
          "output_type": "execute_result"
        }
      ],
      "source": [
        "index_names = data[~removed_outliers].index # INVERT removed_outliers!!\n",
        "data.drop(index_names, inplace=True)\n",
        "data.head(5)"
      ]
    },
    {
      "cell_type": "code",
      "execution_count": 19,
      "metadata": {
        "colab": {
          "base_uri": "https://localhost:8080/",
          "height": 279
        },
        "id": "CkBboBOzgTB2",
        "outputId": "7c62dcfc-c0c4-4a2c-e082-f8674894bebe"
      },
      "outputs": [
        {
          "data": {
            "image/png": "[encoded data removed]",
            "text/plain": [
              "<Figure size 432x288 with 1 Axes>"
            ]
          },
          "metadata": {
            "needs_background": "light"
          },
          "output_type": "display_data"
        }
      ],
      "source": [
        "#VISUALISATION of the dataset\n",
        "#as time series\n",
        "data.plot.line(y=\"Close\", x=\"Date\")\n",
        "plt.pyplot.show()"
      ]
    },
    {
      "cell_type": "code",
      "execution_count": 20,
      "metadata": {
        "colab": {
          "base_uri": "https://localhost:8080/"
        },
        "id": "0D1_d2CL1_o0",
        "outputId": "68d3868f-3085-4954-980d-d738eb1e13ce"
      },
      "outputs": [
        {
          "name": "stdout",
          "output_type": "stream",
          "text": [
            "(1643, 1) (1643, 4)\n"
          ]
        }
      ],
      "source": [
        "#as a linear function\n",
        "d=data.to_numpy()\n",
        "X = data[ [\"Close\"] ].to_numpy()#as_matrix()\n",
        "y = data[ [\"Open\", \"High\", \"Low\", \"Volume\"] ].to_numpy()\n",
        "print( X.shape, y.shape )"
      ]
    },
    {
      "cell_type": "code",
      "execution_count": 21,
      "metadata": {
        "colab": {
          "base_uri": "https://localhost:8080/",
          "height": 276
        },
        "id": "5S3ipTz_2EVh",
        "outputId": "e4e42a87-827a-4308-caa7-83f6e2c8a45e"
      },
      "outputs": [
        {
          "data": {
            "image/png": "[encoded data removed]",
            "text/plain": [
              "<Figure size 432x288 with 1 Axes>"
            ]
          },
          "metadata": {
            "needs_background": "light"
          },
          "output_type": "display_data"
        }
      ],
      "source": [
        "plt.pyplot.plot( X, y, 'rx', markersize=2 )\n",
        "plt.pyplot.show()"
      ]
    },
    {
      "cell_type": "code",
      "execution_count": 22,
      "metadata": {
        "colab": {
          "base_uri": "https://localhost:8080/",
          "height": 206
        },
        "id": "EYvoEg699MDV",
        "outputId": "278da3cf-d3ac-40ca-dc9b-9bb28fbf45a5"
      },
      "outputs": [
        {
          "data": {
            "text/html": [
              "<div>\n",
              "<style scoped>\n",
              "    .dataframe tbody tr th:only-of-type {\n",
              "        vertical-align: middle;\n",
              "    }\n",
              "\n",
              "    .dataframe tbody tr th {\n",
              "        vertical-align: top;\n",
              "    }\n",
              "\n",
              "    .dataframe thead th {\n",
              "        text-align: right;\n",
              "    }\n",
              "</style>\n",
              "<table border=\"1\" class=\"dataframe\">\n",
              "  <thead>\n",
              "    <tr style=\"text-align: right;\">\n",
              "      <th></th>\n",
              "      <th>Open</th>\n",
              "      <th>High</th>\n",
              "      <th>Low</th>\n",
              "      <th>Volume</th>\n",
              "      <th>Close</th>\n",
              "    </tr>\n",
              "  </thead>\n",
              "  <tbody>\n",
              "    <tr>\n",
              "      <th>0</th>\n",
              "      <td>0.000970</td>\n",
              "      <td>0.000310</td>\n",
              "      <td>0.000287</td>\n",
              "      <td>0.000568</td>\n",
              "      <td>0.000021</td>\n",
              "    </tr>\n",
              "    <tr>\n",
              "      <th>1</th>\n",
              "      <td>0.000816</td>\n",
              "      <td>0.000000</td>\n",
              "      <td>0.000864</td>\n",
              "      <td>0.000000</td>\n",
              "      <td>0.000136</td>\n",
              "    </tr>\n",
              "    <tr>\n",
              "      <th>2</th>\n",
              "      <td>0.001107</td>\n",
              "      <td>0.000190</td>\n",
              "      <td>0.001019</td>\n",
              "      <td>0.000152</td>\n",
              "      <td>0.000136</td>\n",
              "    </tr>\n",
              "    <tr>\n",
              "      <th>3</th>\n",
              "      <td>0.001096</td>\n",
              "      <td>0.000683</td>\n",
              "      <td>0.001163</td>\n",
              "      <td>0.000278</td>\n",
              "      <td>0.000910</td>\n",
              "    </tr>\n",
              "    <tr>\n",
              "      <th>4</th>\n",
              "      <td>0.001863</td>\n",
              "      <td>0.001350</td>\n",
              "      <td>0.001822</td>\n",
              "      <td>0.000675</td>\n",
              "      <td>0.001429</td>\n",
              "    </tr>\n",
              "  </tbody>\n",
              "</table>\n",
              "</div>"
            ],
            "text/plain": [
              "       Open      High       Low    Volume     Close\n",
              "0  0.000970  0.000310  0.000287  0.000568  0.000021\n",
              "1  0.000816  0.000000  0.000864  0.000000  0.000136\n",
              "2  0.001107  0.000190  0.001019  0.000152  0.000136\n",
              "3  0.001096  0.000683  0.001163  0.000278  0.000910\n",
              "4  0.001863  0.001350  0.001822  0.000675  0.001429"
            ]
          },
          "execution_count": 22,
          "metadata": {},
          "output_type": "execute_result"
        }
      ],
      "source": [
        "#PREPROCESSING\n",
        "#normalisation\n",
        "scaler = preprocessing.MinMaxScaler()\n",
        "names =[\"Open\", \"High\", \"Low\", \"Volume\", \"Close\"]\n",
        "data = scaler.fit_transform(data[names])\n",
        "data = pd.DataFrame(data, columns=names)\n",
        "data.head()\n"
      ]
    },
    {
      "cell_type": "code",
      "execution_count": 23,
      "metadata": {
        "colab": {
          "base_uri": "https://localhost:8080/",
          "height": 206
        },
        "id": "JT8jGV60oci3",
        "outputId": "efaa0bd5-af93-4a96-d856-2019602684c6"
      },
      "outputs": [
        {
          "data": {
            "text/html": [
              "<div>\n",
              "<style scoped>\n",
              "    .dataframe tbody tr th:only-of-type {\n",
              "        vertical-align: middle;\n",
              "    }\n",
              "\n",
              "    .dataframe tbody tr th {\n",
              "        vertical-align: top;\n",
              "    }\n",
              "\n",
              "    .dataframe thead th {\n",
              "        text-align: right;\n",
              "    }\n",
              "</style>\n",
              "<table border=\"1\" class=\"dataframe\">\n",
              "  <thead>\n",
              "    <tr style=\"text-align: right;\">\n",
              "      <th></th>\n",
              "      <th>Actual_Close</th>\n",
              "      <th>Target</th>\n",
              "    </tr>\n",
              "  </thead>\n",
              "  <tbody>\n",
              "    <tr>\n",
              "      <th>0</th>\n",
              "      <td>0.000021</td>\n",
              "      <td>NaN</td>\n",
              "    </tr>\n",
              "    <tr>\n",
              "      <th>1</th>\n",
              "      <td>0.000136</td>\n",
              "      <td>1.0</td>\n",
              "    </tr>\n",
              "    <tr>\n",
              "      <th>2</th>\n",
              "      <td>0.000136</td>\n",
              "      <td>0.0</td>\n",
              "    </tr>\n",
              "    <tr>\n",
              "      <th>3</th>\n",
              "      <td>0.000910</td>\n",
              "      <td>1.0</td>\n",
              "    </tr>\n",
              "    <tr>\n",
              "      <th>4</th>\n",
              "      <td>0.001429</td>\n",
              "      <td>1.0</td>\n",
              "    </tr>\n",
              "  </tbody>\n",
              "</table>\n",
              "</div>"
            ],
            "text/plain": [
              "   Actual_Close  Target\n",
              "0      0.000021     NaN\n",
              "1      0.000136     1.0\n",
              "2      0.000136     0.0\n",
              "3      0.000910     1.0\n",
              "4      0.001429     1.0"
            ]
          },
          "execution_count": 23,
          "metadata": {},
          "output_type": "execute_result"
        }
      ],
      "source": [
        "data_close= data[[\"Close\"]] #needed in order to preserve the actual close value per day\n",
        "data_close= data_close.rename(columns = {'Close':'Actual_Close'})\n",
        "#rolling over every two rows, check if the later close value is greater than the preceding one and return 1, otherwise 0\n",
        "data_close[\"Target\"] = data.rolling(2).apply(lambda x: x.iloc[1] > x.iloc[0])[\"Close\"]\n",
        "data_close.head()"
      ]
    },
    {
      "cell_type": "code",
      "execution_count": 24,
      "metadata": {
        "colab": {
          "base_uri": "https://localhost:8080/",
          "height": 206
        },
        "id": "8Oqcu5Nk9WPb",
        "outputId": "7492cc7a-717a-4409-9852-97c3cccbb1b7"
      },
      "outputs": [
        {
          "data": {
            "text/html": [
              "<div>\n",
              "<style scoped>\n",
              "    .dataframe tbody tr th:only-of-type {\n",
              "        vertical-align: middle;\n",
              "    }\n",
              "\n",
              "    .dataframe tbody tr th {\n",
              "        vertical-align: top;\n",
              "    }\n",
              "\n",
              "    .dataframe thead th {\n",
              "        text-align: right;\n",
              "    }\n",
              "</style>\n",
              "<table border=\"1\" class=\"dataframe\">\n",
              "  <thead>\n",
              "    <tr style=\"text-align: right;\">\n",
              "      <th></th>\n",
              "      <th>Open</th>\n",
              "      <th>High</th>\n",
              "      <th>Low</th>\n",
              "      <th>Volume</th>\n",
              "      <th>Close</th>\n",
              "    </tr>\n",
              "  </thead>\n",
              "  <tbody>\n",
              "    <tr>\n",
              "      <th>0</th>\n",
              "      <td>NaN</td>\n",
              "      <td>NaN</td>\n",
              "      <td>NaN</td>\n",
              "      <td>NaN</td>\n",
              "      <td>NaN</td>\n",
              "    </tr>\n",
              "    <tr>\n",
              "      <th>1</th>\n",
              "      <td>0.000970</td>\n",
              "      <td>0.000310</td>\n",
              "      <td>0.000287</td>\n",
              "      <td>0.000568</td>\n",
              "      <td>0.000021</td>\n",
              "    </tr>\n",
              "    <tr>\n",
              "      <th>2</th>\n",
              "      <td>0.000816</td>\n",
              "      <td>0.000000</td>\n",
              "      <td>0.000864</td>\n",
              "      <td>0.000000</td>\n",
              "      <td>0.000136</td>\n",
              "    </tr>\n",
              "    <tr>\n",
              "      <th>3</th>\n",
              "      <td>0.001107</td>\n",
              "      <td>0.000190</td>\n",
              "      <td>0.001019</td>\n",
              "      <td>0.000152</td>\n",
              "      <td>0.000136</td>\n",
              "    </tr>\n",
              "    <tr>\n",
              "      <th>4</th>\n",
              "      <td>0.001096</td>\n",
              "      <td>0.000683</td>\n",
              "      <td>0.001163</td>\n",
              "      <td>0.000278</td>\n",
              "      <td>0.000910</td>\n",
              "    </tr>\n",
              "  </tbody>\n",
              "</table>\n",
              "</div>"
            ],
            "text/plain": [
              "       Open      High       Low    Volume     Close\n",
              "0       NaN       NaN       NaN       NaN       NaN\n",
              "1  0.000970  0.000310  0.000287  0.000568  0.000021\n",
              "2  0.000816  0.000000  0.000864  0.000000  0.000136\n",
              "3  0.001107  0.000190  0.001019  0.000152  0.000136\n",
              "4  0.001096  0.000683  0.001163  0.000278  0.000910"
            ]
          },
          "execution_count": 24,
          "metadata": {},
          "output_type": "execute_result"
        }
      ],
      "source": [
        "#ensure that the prediction of future prices depends on past data\n",
        "data_prev = data.copy()\n",
        "data_prev = data_prev.shift(1)\n",
        "data_prev.head()"
      ]
    },
    {
      "cell_type": "code",
      "execution_count": 25,
      "metadata": {
        "colab": {
          "base_uri": "https://localhost:8080/",
          "height": 206
        },
        "id": "80vYw6Aj9Yib",
        "outputId": "21049711-659f-4bb2-a4de-31bef78763e4"
      },
      "outputs": [
        {
          "data": {
            "text/html": [
              "<div>\n",
              "<style scoped>\n",
              "    .dataframe tbody tr th:only-of-type {\n",
              "        vertical-align: middle;\n",
              "    }\n",
              "\n",
              "    .dataframe tbody tr th {\n",
              "        vertical-align: top;\n",
              "    }\n",
              "\n",
              "    .dataframe thead th {\n",
              "        text-align: right;\n",
              "    }\n",
              "</style>\n",
              "<table border=\"1\" class=\"dataframe\">\n",
              "  <thead>\n",
              "    <tr style=\"text-align: right;\">\n",
              "      <th></th>\n",
              "      <th>Actual_Close</th>\n",
              "      <th>Target</th>\n",
              "      <th>Volume</th>\n",
              "      <th>Open</th>\n",
              "      <th>High</th>\n",
              "      <th>Low</th>\n",
              "    </tr>\n",
              "  </thead>\n",
              "  <tbody>\n",
              "    <tr>\n",
              "      <th>1</th>\n",
              "      <td>0.000136</td>\n",
              "      <td>1.0</td>\n",
              "      <td>0.000568</td>\n",
              "      <td>0.000970</td>\n",
              "      <td>0.000310</td>\n",
              "      <td>0.000287</td>\n",
              "    </tr>\n",
              "    <tr>\n",
              "      <th>2</th>\n",
              "      <td>0.000136</td>\n",
              "      <td>0.0</td>\n",
              "      <td>0.000000</td>\n",
              "      <td>0.000816</td>\n",
              "      <td>0.000000</td>\n",
              "      <td>0.000864</td>\n",
              "    </tr>\n",
              "    <tr>\n",
              "      <th>3</th>\n",
              "      <td>0.000910</td>\n",
              "      <td>1.0</td>\n",
              "      <td>0.000152</td>\n",
              "      <td>0.001107</td>\n",
              "      <td>0.000190</td>\n",
              "      <td>0.001019</td>\n",
              "    </tr>\n",
              "    <tr>\n",
              "      <th>4</th>\n",
              "      <td>0.001429</td>\n",
              "      <td>1.0</td>\n",
              "      <td>0.000278</td>\n",
              "      <td>0.001096</td>\n",
              "      <td>0.000683</td>\n",
              "      <td>0.001163</td>\n",
              "    </tr>\n",
              "    <tr>\n",
              "      <th>5</th>\n",
              "      <td>0.001866</td>\n",
              "      <td>1.0</td>\n",
              "      <td>0.000675</td>\n",
              "      <td>0.001863</td>\n",
              "      <td>0.001350</td>\n",
              "      <td>0.001822</td>\n",
              "    </tr>\n",
              "  </tbody>\n",
              "</table>\n",
              "</div>"
            ],
            "text/plain": [
              "   Actual_Close  Target    Volume      Open      High       Low\n",
              "1      0.000136     1.0  0.000568  0.000970  0.000310  0.000287\n",
              "2      0.000136     0.0  0.000000  0.000816  0.000000  0.000864\n",
              "3      0.000910     1.0  0.000152  0.001107  0.000190  0.001019\n",
              "4      0.001429     1.0  0.000278  0.001096  0.000683  0.001163\n",
              "5      0.001866     1.0  0.000675  0.001863  0.001350  0.001822"
            ]
          },
          "execution_count": 25,
          "metadata": {},
          "output_type": "execute_result"
        }
      ],
      "source": [
        "# Create training data\n",
        "predictors = [\"Volume\", \"Open\", \"High\", \"Low\"]\n",
        "data_close = data_close.join(data_prev[predictors]).iloc[1:]\n",
        "data_close.head()"
      ]
    },
    {
      "cell_type": "code",
      "execution_count": 26,
      "metadata": {
        "colab": {
          "base_uri": "https://localhost:8080/"
        },
        "id": "KzPMLRWI9aqM",
        "outputId": "c8ed4e20-86c7-4e74-d891-a487d2f6a911"
      },
      "outputs": [
        {
          "name": "stdout",
          "output_type": "stream",
          "text": [
            "Linear Regression: coefficient of determination: 0.9955601391781003\n",
            "Linear Regression: intercept: 0.0009111530114895294\n",
            "Linear Regression: slope: [ 0.01608226 -0.51170962  0.9728542   0.56451413]\n"
          ]
        }
      ],
      "source": [
        "#TRAINING\n",
        "lin_reg = LinearRegression()\n",
        "x_train, x_test,y_train,  y_test= train_test_split(data_close[predictors], data_close[\"Actual_Close\"])\n",
        "lin_reg.fit(x_train, y_train)\n",
        "\n",
        "# Evaluate error of predictions\n",
        "r_sq = lin_reg.score(x_train, y_train)\n",
        "print('Linear Regression: coefficient of determination:', r_sq)\n",
        "print('Linear Regression: intercept:', lin_reg.intercept_) #tells how much our model predicts the response when 𝑥_train is zero\n",
        "print('Linear Regression: slope:', lin_reg.coef_)"
      ]
    }
  ],
  "metadata": {
    "colab": {
      "collapsed_sections": [],
      "name": "Untitled0.ipynb",
      "provenance": []
    },
    "kernelspec": {
      "display_name": "Python 3",
      "name": "python3"
    },
    "language_info": {
      "codemirror_mode": {
        "name": "ipython",
        "version": 3
      },
      "file_extension": ".py",
      "mimetype": "text/x-python",
      "name": "python",
      "nbconvert_exporter": "python",
      "pygments_lexer": "ipython3",
      "version": "3.9.6"
    }
  },
  "nbformat": 4,
  "nbformat_minor": 0
}
